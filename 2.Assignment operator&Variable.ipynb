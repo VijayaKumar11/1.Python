{
 "cells": [
  {
   "cell_type": "code",
   "execution_count": null,
   "id": "1e77643b",
   "metadata": {},
   "outputs": [],
   "source": [
    "num1=10\n",
    "num2=20\n",
    "add=num1+num2"
   ]
  },
  {
   "cell_type": "code",
   "execution_count": 4,
   "id": "c327878f",
   "metadata": {},
   "outputs": [
    {
     "name": "stdout",
     "output_type": "stream",
     "text": [
      "add\n"
     ]
    }
   ],
   "source": [
    "num1=10\n",
    "num2=20\n",
    "add=num1+num2\n",
    "print(\"add\")"
   ]
  },
  {
   "cell_type": "code",
   "execution_count": 5,
   "id": "798128cb",
   "metadata": {},
   "outputs": [
    {
     "name": "stdout",
     "output_type": "stream",
     "text": [
      "add\n",
      "30\n"
     ]
    }
   ],
   "source": [
    "num1=10\n",
    "num2=20\n",
    "add=num1+num2\n",
    "print(\"add\")\n",
    "print(add)"
   ]
  },
  {
   "cell_type": "markdown",
   "id": "bea793dc",
   "metadata": {},
   "source": [
    "first name=\"vijay\""
   ]
  },
  {
   "cell_type": "code",
   "execution_count": 6,
   "id": "c67b66fe",
   "metadata": {},
   "outputs": [
    {
     "ename": "SyntaxError",
     "evalue": "invalid syntax (2862869618.py, line 1)",
     "output_type": "error",
     "traceback": [
      "\u001b[1;36m  Cell \u001b[1;32mIn[6], line 1\u001b[1;36m\u001b[0m\n\u001b[1;33m    First Name= \"vijay\"\u001b[0m\n\u001b[1;37m          ^\u001b[0m\n\u001b[1;31mSyntaxError\u001b[0m\u001b[1;31m:\u001b[0m invalid syntax\n"
     ]
    }
   ],
   "source": [
    "First Name= \"vijay\""
   ]
  },
  {
   "cell_type": "code",
   "execution_count": 7,
   "id": "32728411",
   "metadata": {},
   "outputs": [],
   "source": [
    "First_Name=\"vijay\""
   ]
  },
  {
   "cell_type": "code",
   "execution_count": 8,
   "id": "05940360",
   "metadata": {},
   "outputs": [],
   "source": [
    "Firstname=\"hi\""
   ]
  },
  {
   "cell_type": "code",
   "execution_count": 9,
   "id": "9ff56481",
   "metadata": {},
   "outputs": [],
   "source": [
    "firstName=\"hwelcome\""
   ]
  },
  {
   "cell_type": "code",
   "execution_count": 10,
   "id": "201adccf",
   "metadata": {},
   "outputs": [],
   "source": [
    "fistname=\"hi\"\n"
   ]
  },
  {
   "cell_type": "code",
   "execution_count": 3,
   "id": "57564a9e",
   "metadata": {},
   "outputs": [
    {
     "name": "stdout",
     "output_type": "stream",
     "text": [
      "The addition of two numbers\n",
      "the number1: 10\n",
      "the number2: 20\n",
      "the answer : 30\n"
     ]
    }
   ],
   "source": [
    "print(\"The addition of two numbers\")\n",
    "num1=10\n",
    "print(\"the number1:\",num1)\n",
    "num2=20\n",
    "print(\"the number2:\",num2)\n",
    "print(\"the answer :\",num1+num2)"
   ]
  },
  {
   "cell_type": "code",
   "execution_count": 16,
   "id": "7b2effdb",
   "metadata": {},
   "outputs": [
    {
     "name": "stdout",
     "output_type": "stream",
     "text": [
      "enter the num1:30\n"
     ]
    }
   ],
   "source": [
    "num1=int(input(\"enter the num1:\"))\n"
   ]
  },
  {
   "cell_type": "code",
   "execution_count": 24,
   "id": "af77a75e",
   "metadata": {},
   "outputs": [
    {
     "name": "stdout",
     "output_type": "stream",
     "text": [
      "enter the num2:50\n"
     ]
    }
   ],
   "source": [
    "num2=int(input(\"enter the num2:\"))"
   ]
  },
  {
   "cell_type": "code",
   "execution_count": 25,
   "id": "1356376d",
   "metadata": {},
   "outputs": [],
   "source": [
    "add=num1+num2"
   ]
  },
  {
   "cell_type": "code",
   "execution_count": 26,
   "id": "665a39b3",
   "metadata": {},
   "outputs": [
    {
     "name": "stdout",
     "output_type": "stream",
     "text": [
      "80\n"
     ]
    }
   ],
   "source": [
    "print(add)"
   ]
  },
  {
   "cell_type": "code",
   "execution_count": null,
   "id": "e44d40ca",
   "metadata": {},
   "outputs": [],
   "source": []
  }
 ],
 "metadata": {
  "kernelspec": {
   "display_name": "Python 3 (ipykernel)",
   "language": "python",
   "name": "python3"
  },
  "language_info": {
   "codemirror_mode": {
    "name": "ipython",
    "version": 3
   },
   "file_extension": ".py",
   "mimetype": "text/x-python",
   "name": "python",
   "nbconvert_exporter": "python",
   "pygments_lexer": "ipython3",
   "version": "3.10.9"
  }
 },
 "nbformat": 4,
 "nbformat_minor": 5
}

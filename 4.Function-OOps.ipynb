{
 "cells": [
  {
   "cell_type": "code",
   "execution_count": 3,
   "id": "4fda1403",
   "metadata": {},
   "outputs": [],
   "source": [
    "#Function syntax\n",
    "#def functionName():\n",
    " #   ----\n",
    "  #  ----\n",
    "   # return____"
   ]
  },
  {
   "cell_type": "code",
   "execution_count": 4,
   "id": "072a8d31",
   "metadata": {},
   "outputs": [],
   "source": [
    "lists=[23,45,67,34,89]"
   ]
  },
  {
   "cell_type": "code",
   "execution_count": 5,
   "id": "830f6c5e",
   "metadata": {},
   "outputs": [],
   "source": [
    "def AgeCategory():\n",
    "    for age in lists:\n",
    "        if(age<18):\n",
    "            print(\"chidren\")\n",
    "        elif(age<35):\n",
    "            print(\"Adult\")\n",
    "        elif(age<59):\n",
    "            print(\"Citizen\")\n",
    "        else:\n",
    "            print(\"Senior Citizen\")\n",
    "            "
   ]
  },
  {
   "cell_type": "code",
   "execution_count": 6,
   "id": "b7271e76",
   "metadata": {},
   "outputs": [
    {
     "name": "stdout",
     "output_type": "stream",
     "text": [
      "Adult\n",
      "Citizen\n",
      "Senior Citizen\n",
      "Adult\n",
      "Senior Citizen\n"
     ]
    }
   ],
   "source": [
    "AgeCategory()"
   ]
  },
  {
   "cell_type": "code",
   "execution_count": 7,
   "id": "174d6fc0",
   "metadata": {},
   "outputs": [],
   "source": [
    "#using return statement"
   ]
  },
  {
   "cell_type": "code",
   "execution_count": 8,
   "id": "e0ad3753",
   "metadata": {},
   "outputs": [
    {
     "name": "stdout",
     "output_type": "stream",
     "text": [
      "Enter the age:24\n"
     ]
    }
   ],
   "source": [
    "age=int(input(\"Enter the age:\"))"
   ]
  },
  {
   "cell_type": "code",
   "execution_count": 11,
   "id": "67a5722b",
   "metadata": {},
   "outputs": [],
   "source": [
    "def AgeCategory():\n",
    "    if(age<16):\n",
    "        print(\"children\")\n",
    "        cate=\"Children\"\n",
    "    elif(age<35):\n",
    "        print(\"Adult\")\n",
    "        cate=\"Adult\"\n",
    "    elif(age<59):\n",
    "        print(\"Citizen\")\n",
    "        cate=\"Citizen\"\n",
    "    else:\n",
    "        print(\"senior Citizen\")\n",
    "        cate=\"Senior Citizen\"\n",
    "    return cate"
   ]
  },
  {
   "cell_type": "code",
   "execution_count": 10,
   "id": "b4266ef4",
   "metadata": {},
   "outputs": [
    {
     "name": "stdout",
     "output_type": "stream",
     "text": [
      "Adult\n"
     ]
    },
    {
     "data": {
      "text/plain": [
       "'Adult'"
      ]
     },
     "execution_count": 10,
     "metadata": {},
     "output_type": "execute_result"
    }
   ],
   "source": [
    "AgeCategory()"
   ]
  },
  {
   "cell_type": "code",
   "execution_count": 12,
   "id": "b99e21e7",
   "metadata": {},
   "outputs": [
    {
     "name": "stdout",
     "output_type": "stream",
     "text": [
      "Adult\n"
     ]
    }
   ],
   "source": [
    "agecategory=AgeCategory()"
   ]
  },
  {
   "cell_type": "code",
   "execution_count": 13,
   "id": "80525550",
   "metadata": {},
   "outputs": [
    {
     "data": {
      "text/plain": [
       "'Adult'"
      ]
     },
     "execution_count": 13,
     "metadata": {},
     "output_type": "execute_result"
    }
   ],
   "source": [
    "agecategory"
   ]
  },
  {
   "cell_type": "code",
   "execution_count": null,
   "id": "2543741e",
   "metadata": {},
   "outputs": [],
   "source": []
  }
 ],
 "metadata": {
  "kernelspec": {
   "display_name": "Python 3 (ipykernel)",
   "language": "python",
   "name": "python3"
  },
  "language_info": {
   "codemirror_mode": {
    "name": "ipython",
    "version": 3
   },
   "file_extension": ".py",
   "mimetype": "text/x-python",
   "name": "python",
   "nbconvert_exporter": "python",
   "pygments_lexer": "ipython3",
   "version": "3.10.9"
  }
 },
 "nbformat": 4,
 "nbformat_minor": 5
}

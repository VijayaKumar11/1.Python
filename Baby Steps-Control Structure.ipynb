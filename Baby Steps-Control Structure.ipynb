{
 "cells": [
  {
   "cell_type": "code",
   "execution_count": 2,
   "id": "16d2f004",
   "metadata": {},
   "outputs": [
    {
     "name": "stdout",
     "output_type": "stream",
     "text": [
      "Welcome to Assignment-1\n"
     ]
    }
   ],
   "source": [
    "print(\"Welcome to Assignment-1\")"
   ]
  },
  {
   "cell_type": "code",
   "execution_count": null,
   "id": "f2217ee7",
   "metadata": {},
   "outputs": [],
   "source": [
    "num1=int(input(\"Num1= \"))\n",
    "num2=int(input(\"Num2= \"))\n",
    "add=num1+num2\n",
    "print(\"Add=\",add)"
   ]
  },
  {
   "cell_type": "code",
   "execution_count": 31,
   "id": "9e32cecd",
   "metadata": {},
   "outputs": [
    {
     "name": "stdout",
     "output_type": "stream",
     "text": [
      "Enter the BMI Index:14\n",
      "Severely UnderWeight\n"
     ]
    }
   ],
   "source": [
    "BMI=float(input(\"Enter the BMI Index:\"))\n",
    "if(BMI<16.0):\n",
    "    print(\"Severely UnderWeight\")\n",
    "elif(BMI<18.4):\n",
    "    print(\"Underweight\")\n",
    "elif(BMI<24.4):\n",
    "    print(\"Normal\")\n",
    "elif(BMI<29.9):\n",
    "    print(\"Overweight\")\n",
    "elif(BMI<34.9):\n",
    "    print(\"Moderately Obese\")\n",
    "elif(BMI<39.9):\n",
    "    print(\"Severely Obese\")\n",
    "else:\n",
    "    print(\"Morbidly obese\")"
   ]
  },
  {
   "cell_type": "code",
   "execution_count": null,
   "id": "e44d0df2",
   "metadata": {},
   "outputs": [],
   "source": []
  },
  {
   "cell_type": "code",
   "execution_count": null,
   "id": "fb0ffd00",
   "metadata": {},
   "outputs": [],
   "source": []
  }
 ],
 "metadata": {
  "kernelspec": {
   "display_name": "Python 3 (ipykernel)",
   "language": "python",
   "name": "python3"
  },
  "language_info": {
   "codemirror_mode": {
    "name": "ipython",
    "version": 3
   },
   "file_extension": ".py",
   "mimetype": "text/x-python",
   "name": "python",
   "nbconvert_exporter": "python",
   "pygments_lexer": "ipython3",
   "version": "3.10.9"
  }
 },
 "nbformat": 4,
 "nbformat_minor": 5
}

{
 "cells": [
  {
   "cell_type": "code",
   "execution_count": null,
   "id": "00fda4ad",
   "metadata": {},
   "outputs": [],
   "source": [
    "from multiplelibrary2 import multiple"
   ]
  },
  {
   "cell_type": "code",
   "execution_count": 61,
   "id": "04e052c6",
   "metadata": {},
   "outputs": [
    {
     "name": "stdout",
     "output_type": "stream",
     "text": [
      "Sub-fields in AI are:\n",
      "Machine Learning\n",
      "Neural Networks\n",
      "Vision\n",
      "Robotics\n",
      "Speech Processing\n",
      "Natural Language Processing\n"
     ]
    }
   ],
   "source": [
    "multiple.Subfields()"
   ]
  },
  {
   "cell_type": "code",
   "execution_count": 62,
   "id": "0a8ffda2",
   "metadata": {},
   "outputs": [
    {
     "name": "stdout",
     "output_type": "stream",
     "text": [
      "Enter the number:52452\n",
      "52452 is Even Number\n"
     ]
    }
   ],
   "source": [
    "multiple.OddEven()"
   ]
  },
  {
   "cell_type": "code",
   "execution_count": 63,
   "id": "fbe150fd",
   "metadata": {},
   "outputs": [
    {
     "name": "stdout",
     "output_type": "stream",
     "text": [
      "Your Gender:male\n",
      "Your Age:20\n",
      "NOT ELIGIBLE\n"
     ]
    }
   ],
   "source": [
    "multiple.Elegibility()"
   ]
  },
  {
   "cell_type": "code",
   "execution_count": 64,
   "id": "2107255b",
   "metadata": {},
   "outputs": [
    {
     "name": "stdout",
     "output_type": "stream",
     "text": [
      "Subject1=98\n",
      "Subject2=87\n",
      "Subject3=95\n",
      "Subject4=95\n",
      "Subject5=93\n",
      "Total 468\n",
      "Percentage 93.6\n"
     ]
    }
   ],
   "source": [
    "multiple.percentage()"
   ]
  },
  {
   "cell_type": "code",
   "execution_count": 65,
   "id": "ae345b72",
   "metadata": {},
   "outputs": [
    {
     "name": "stdout",
     "output_type": "stream",
     "text": [
      "Height:32\n",
      "Breadth:34\n",
      "Area formula: (Height*Breadth)/2\n",
      "Area of Triangle 544.0\n",
      "Height1:2\n",
      "Height2:4\n",
      "Breadth:4\n",
      "Perimeter formula: Height1+Height2+Breadth\n",
      "Perimeter of Triangle:  10\n"
     ]
    }
   ],
   "source": [
    "multiple.triangle()"
   ]
  },
  {
   "cell_type": "code",
   "execution_count": null,
   "id": "bf78e717",
   "metadata": {},
   "outputs": [],
   "source": []
  }
 ],
 "metadata": {
  "kernelspec": {
   "display_name": "Python 3 (ipykernel)",
   "language": "python",
   "name": "python3"
  },
  "language_info": {
   "codemirror_mode": {
    "name": "ipython",
    "version": 3
   },
   "file_extension": ".py",
   "mimetype": "text/x-python",
   "name": "python",
   "nbconvert_exporter": "python",
   "pygments_lexer": "ipython3",
   "version": "3.10.9"
  }
 },
 "nbformat": 4,
 "nbformat_minor": 5
}

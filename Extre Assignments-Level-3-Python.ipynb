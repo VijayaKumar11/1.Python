{
 "cells": [
  {
   "cell_type": "code",
   "execution_count": null,
   "id": "f5e6a6e9",
   "metadata": {},
   "outputs": [],
   "source": [
    "#print 'CORRECT' if i==10"
   ]
  },
  {
   "cell_type": "code",
   "execution_count": 11,
   "id": "2846a143",
   "metadata": {},
   "outputs": [
    {
     "name": "stdout",
     "output_type": "stream",
     "text": [
      "value:10\n",
      "corrct\n"
     ]
    }
   ],
   "source": [
    "i=int(input(\"value:\"))\n",
    "if((i==10)):\n",
    "    print(\"corrct\")\n",
    "else:\n",
    "    print(\"incorrect\")"
   ]
  },
  {
   "cell_type": "code",
   "execution_count": 2,
   "id": "7adc7871",
   "metadata": {},
   "outputs": [],
   "source": [
    "#check the password, using if and else"
   ]
  },
  {
   "cell_type": "code",
   "execution_count": 29,
   "id": "cb782124",
   "metadata": {},
   "outputs": [
    {
     "name": "stdout",
     "output_type": "stream",
     "text": [
      "Enter the password:123\n",
      "password is correct\n"
     ]
    }
   ],
   "source": [
    "num=int(input(\"Enter the password:\"))\n",
    "if(num==123):\n",
    "    print(\"password is correct\")\n",
    "else:\n",
    "    print(\"password is incorrect\")"
   ]
  },
  {
   "cell_type": "code",
   "execution_count": 1,
   "id": "005cf66a",
   "metadata": {},
   "outputs": [],
   "source": [
    "#Caragory the people by their age like children,adult,citizen,senior citizen"
   ]
  },
  {
   "cell_type": "code",
   "execution_count": 2,
   "id": "6986c42f",
   "metadata": {},
   "outputs": [
    {
     "name": "stdout",
     "output_type": "stream",
     "text": [
      "Enter the age:20\n",
      "Adult\n"
     ]
    }
   ],
   "source": [
    "age=int(input(\"Enter the age:\"))\n",
    "if(age<16):\n",
    "    print(\"Children\")\n",
    "elif(age<35):\n",
    "    print(\"Adult\")\n",
    "elif(age<59):\n",
    "    print(\"Citizen\")\n",
    "else:\n",
    "    print(\"Senior citizen\")"
   ]
  },
  {
   "cell_type": "code",
   "execution_count": 3,
   "id": "7e012349",
   "metadata": {},
   "outputs": [],
   "source": [
    "#find wheter given number is positive or negative\n"
   ]
  },
  {
   "cell_type": "code",
   "execution_count": 12,
   "id": "bf477b3e",
   "metadata": {},
   "outputs": [
    {
     "name": "stdout",
     "output_type": "stream",
     "text": [
      "Enter any number:1\n",
      "positive\n"
     ]
    }
   ],
   "source": [
    "num=int(input(\"Enter any number:\"))\n",
    "if(num>0):\n",
    "    print(\"positive\")\n",
    "else:\n",
    "    print(\"negative\")"
   ]
  },
  {
   "cell_type": "code",
   "execution_count": 13,
   "id": "bf60f1a7",
   "metadata": {},
   "outputs": [],
   "source": [
    "#check whether the given number is divisible by 5"
   ]
  },
  {
   "cell_type": "code",
   "execution_count": 17,
   "id": "872d8660",
   "metadata": {},
   "outputs": [
    {
     "name": "stdout",
     "output_type": "stream",
     "text": [
      "Enter a number to check:22\n",
      "No is not divisible by 5\n"
     ]
    }
   ],
   "source": [
    "num=int(input(\"Enter a number to check:\"))\n",
    "if(num%5==0):\n",
    "    print(\"Yes is divisible by 5\")\n",
    "else:\n",
    "    print(\"No is not divisible by 5\")"
   ]
  },
  {
   "cell_type": "code",
   "execution_count": null,
   "id": "68419d20",
   "metadata": {},
   "outputs": [],
   "source": []
  }
 ],
 "metadata": {
  "kernelspec": {
   "display_name": "Python 3 (ipykernel)",
   "language": "python",
   "name": "python3"
  },
  "language_info": {
   "codemirror_mode": {
    "name": "ipython",
    "version": 3
   },
   "file_extension": ".py",
   "mimetype": "text/x-python",
   "name": "python",
   "nbconvert_exporter": "python",
   "pygments_lexer": "ipython3",
   "version": "3.10.9"
  }
 },
 "nbformat": 4,
 "nbformat_minor": 5
}

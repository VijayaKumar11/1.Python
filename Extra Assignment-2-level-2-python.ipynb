{
 "cells": [
  {
   "cell_type": "code",
   "execution_count": 1,
   "id": "0d81a8d1",
   "metadata": {},
   "outputs": [],
   "source": [
    "#print 0 to 20 by using range"
   ]
  },
  {
   "cell_type": "code",
   "execution_count": 5,
   "id": "fe23808c",
   "metadata": {},
   "outputs": [
    {
     "name": "stdout",
     "output_type": "stream",
     "text": [
      "0\n",
      "1\n",
      "2\n",
      "3\n",
      "4\n",
      "5\n",
      "6\n",
      "7\n",
      "8\n",
      "9\n",
      "10\n",
      "11\n",
      "12\n",
      "13\n",
      "14\n",
      "15\n",
      "16\n",
      "17\n",
      "18\n",
      "19\n"
     ]
    }
   ],
   "source": [
    "range(0,20)\n",
    "for num in range(0,20):\n",
    "    print(num)"
   ]
  },
  {
   "cell_type": "code",
   "execution_count": 6,
   "id": "7cd48007",
   "metadata": {},
   "outputs": [],
   "source": [
    "#print range 10 to 20"
   ]
  },
  {
   "cell_type": "code",
   "execution_count": 7,
   "id": "63062767",
   "metadata": {},
   "outputs": [
    {
     "name": "stdout",
     "output_type": "stream",
     "text": [
      "10\n",
      "11\n",
      "12\n",
      "13\n",
      "14\n",
      "15\n",
      "16\n",
      "17\n",
      "18\n",
      "19\n"
     ]
    }
   ],
   "source": [
    "range(10,20)\n",
    "for num in range(10,20):\n",
    "    print(num)\n",
    "    "
   ]
  },
  {
   "cell_type": "code",
   "execution_count": 8,
   "id": "b511d899",
   "metadata": {},
   "outputs": [],
   "source": [
    "#print number of items in the list by using 'len' "
   ]
  },
  {
   "cell_type": "code",
   "execution_count": 5,
   "id": "7ea1afe1",
   "metadata": {},
   "outputs": [
    {
     "name": "stdout",
     "output_type": "stream",
     "text": [
      "Number of item in list 2:7\n",
      "10\n",
      "20\n",
      "14\n",
      "55\n",
      "43\n",
      "87\n",
      "76\n"
     ]
    }
   ],
   "source": [
    "num=int(input(\"Number of item in list 2:\"))\n",
    "len=[10,20,14,55,43,87,76]\n",
    "for list in len:\n",
    "    print(list)"
   ]
  },
  {
   "cell_type": "code",
   "execution_count": 52,
   "id": "d6deb403",
   "metadata": {},
   "outputs": [
    {
     "ename": "IndentationError",
     "evalue": "unexpected indent (3015424950.py, line 2)",
     "output_type": "error",
     "traceback": [
      "\u001b[1;36m  Cell \u001b[1;32mIn[52], line 2\u001b[1;36m\u001b[0m\n\u001b[1;33m    print(\"artifical Intellegence\")\u001b[0m\n\u001b[1;37m    ^\u001b[0m\n\u001b[1;31mIndentationError\u001b[0m\u001b[1;31m:\u001b[0m unexpected indent\n"
     ]
    }
   ],
   "source": [
    "list=[a,r,t,i,f,i,c,i,a,l,I,n,t,e,l,l,e,g,e,n,c,e]\n",
    "    print(\"artifical Intellegence\")\n",
    "    print(list)"
   ]
  },
  {
   "cell_type": "code",
   "execution_count": 16,
   "id": "52b9d478",
   "metadata": {},
   "outputs": [
    {
     "name": "stdout",
     "output_type": "stream",
     "text": [
      "-Your Name-vijay\n",
      "-Your age-29\n",
      "-Your profession-student\n"
     ]
    }
   ],
   "source": [
    "name=input(\"-Your Name-\")\n",
    "age=int(input(\"-Your age-\"))\n",
    "profession=input(\"-Your profession-\")"
   ]
  },
  {
   "cell_type": "code",
   "execution_count": null,
   "id": "8bed23c7",
   "metadata": {},
   "outputs": [],
   "source": [
    "#using Tuple"
   ]
  },
  {
   "cell_type": "code",
   "execution_count": 17,
   "id": "f98eb49a",
   "metadata": {},
   "outputs": [
    {
     "name": "stdout",
     "output_type": "stream",
     "text": [
      "(1, 'Welcome', 2, 'Hope')\n"
     ]
    }
   ],
   "source": [
    "Tuple=(1,'Welcome',2,'Hope')\n",
    "print(Tuple)"
   ]
  },
  {
   "cell_type": "code",
   "execution_count": 19,
   "id": "f4a796ff",
   "metadata": {},
   "outputs": [
    {
     "name": "stdout",
     "output_type": "stream",
     "text": [
      "((0, 1, 2, 3), ('python', 'HOPE'))\n"
     ]
    }
   ],
   "source": [
    "Tuple1=(0,1,2,3)\n",
    "Tuple2=('python','HOPE')\n",
    "Tuple3=(Tuple1,Tuple2)\n",
    "print(Tuple3)"
   ]
  },
  {
   "cell_type": "code",
   "execution_count": 20,
   "id": "b61f5130",
   "metadata": {},
   "outputs": [],
   "source": [
    "#print odd number in the list"
   ]
  },
  {
   "cell_type": "code",
   "execution_count": 43,
   "id": "42d8146a",
   "metadata": {},
   "outputs": [
    {
     "name": "stdout",
     "output_type": "stream",
     "text": [
      "19 is Odd\n",
      "25 is Odd\n",
      "1 is Odd\n"
     ]
    }
   ],
   "source": [
    "list=(20,10,16,19,25,1,276,188)\n",
    "for num in list:\n",
    "    if((num%2)==1):\n",
    "       print(num,\"is Odd\")\n",
    "   \n",
    "    "
   ]
  },
  {
   "cell_type": "code",
   "execution_count": 44,
   "id": "84ba10fd",
   "metadata": {},
   "outputs": [],
   "source": [
    "#print even numbers in the list"
   ]
  },
  {
   "cell_type": "code",
   "execution_count": 46,
   "id": "9a184208",
   "metadata": {},
   "outputs": [
    {
     "name": "stdout",
     "output_type": "stream",
     "text": [
      "20 is Even\n",
      "10 is Even\n",
      "16 is Even\n",
      "276 is Even\n",
      "188 is Even\n"
     ]
    }
   ],
   "source": [
    "list=(20,10,16,19,25,1,276,188)\n",
    "for num in list:\n",
    "    if(num%2==0):\n",
    "        print(num,\"is Even\")"
   ]
  },
  {
   "cell_type": "code",
   "execution_count": null,
   "id": "8db7c1bc",
   "metadata": {},
   "outputs": [],
   "source": []
  }
 ],
 "metadata": {
  "kernelspec": {
   "display_name": "Python 3 (ipykernel)",
   "language": "python",
   "name": "python3"
  },
  "language_info": {
   "codemirror_mode": {
    "name": "ipython",
    "version": 3
   },
   "file_extension": ".py",
   "mimetype": "text/x-python",
   "name": "python",
   "nbconvert_exporter": "python",
   "pygments_lexer": "ipython3",
   "version": "3.10.9"
  }
 },
 "nbformat": 4,
 "nbformat_minor": 5
}

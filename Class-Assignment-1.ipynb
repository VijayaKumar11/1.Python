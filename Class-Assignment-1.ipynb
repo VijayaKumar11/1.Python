{
 "cells": [
  {
   "cell_type": "code",
   "execution_count": 1,
   "id": "15df65ed",
   "metadata": {},
   "outputs": [],
   "source": [
    "#create a class and function,and list out the itemsin list"
   ]
  },
  {
   "cell_type": "code",
   "execution_count": 12,
   "id": "cb1d5ec2",
   "metadata": {},
   "outputs": [],
   "source": [
    "class SubfieldsInAI():\n",
    "    def Subfields():\n",
    "        print(\"Sub-fields in AI are:\")\n",
    "        i=\"Machine Learning\",\"Neural Networks\",\"Vision\",\"Robotics\",\"Speech Processing\",\"Natural Language Processing\"\n",
    "        for num in i:\n",
    "            print(num)\n",
    "            message=num"
   ]
  },
  {
   "cell_type": "code",
   "execution_count": 153,
   "id": "70fb681e",
   "metadata": {},
   "outputs": [
    {
     "name": "stdout",
     "output_type": "stream",
     "text": [
      "Sub-fields in AI are:\n",
      "Machine Learning\n",
      "Neural Networks\n",
      "Vision\n",
      "Robotics\n",
      "Speech Processing\n",
      "Natural Language Processing\n"
     ]
    }
   ],
   "source": [
    "SubfieldsInAI.Subfields()"
   ]
  },
  {
   "cell_type": "code",
   "execution_count": 7,
   "id": "09429bf1",
   "metadata": {},
   "outputs": [],
   "source": [
    "#Create a function that checks whether the given number is Odd or Even"
   ]
  },
  {
   "cell_type": "code",
   "execution_count": 154,
   "id": "d7343295",
   "metadata": {},
   "outputs": [],
   "source": [
    "class OddEven():\n",
    "    def OddEven():\n",
    "        num=int(input(\"Enter the number:\"))\n",
    "        if(num%2==0):\n",
    "            print(num,\"is Even Number\")\n",
    "            message=\"Even Number\"\n",
    "        else:\n",
    "            print(num,\"is Odd Number\")\n",
    "            message=\"Odd Number\""
   ]
  },
  {
   "cell_type": "code",
   "execution_count": 21,
   "id": "2307f80e",
   "metadata": {},
   "outputs": [
    {
     "name": "stdout",
     "output_type": "stream",
     "text": [
      "Enter the number:52452\n",
      "52452 is Even Number\n"
     ]
    }
   ],
   "source": [
    "OddEven.OddEven()"
   ]
  },
  {
   "cell_type": "code",
   "execution_count": 22,
   "id": "1ce5b3b2",
   "metadata": {},
   "outputs": [],
   "source": [
    "#Create a function that tells elegibility marriage for male and female accordind to their age limit like 21 for male and 18 for female"
   ]
  },
  {
   "cell_type": "code",
   "execution_count": 155,
   "id": "e601f120",
   "metadata": {},
   "outputs": [],
   "source": [
    "class ElegibilityForMarriage():\n",
    "    def Elegibility():\n",
    "        gen=input(\"Your Gender:\")\n",
    "        age=int(input(\"Your Age:\"))\n",
    "        if(gen,\"male\"):\n",
    "            if(age<21):\n",
    "                print(\"NOT ELIGIBLE\")\n",
    "            else:\n",
    "                print(\"ELIGIBLE\")\n",
    "        elif(gen,\"female\"):\n",
    "            if(age<18):\n",
    "                print(\"NOT ELIGIBLE\")\n",
    "            else:\n",
    "                print(\"ELIGIBLE\")"
   ]
  },
  {
   "cell_type": "code",
   "execution_count": 156,
   "id": "b5da949d",
   "metadata": {},
   "outputs": [
    {
     "name": "stdout",
     "output_type": "stream",
     "text": [
      "Your Gender:male\n",
      "Your Age:20\n",
      "NOT ELIGIBLE\n"
     ]
    }
   ],
   "source": [
    "ElegibilityForMarriage.Elegibility()"
   ]
  },
  {
   "cell_type": "code",
   "execution_count": 141,
   "id": "df151fe3",
   "metadata": {},
   "outputs": [],
   "source": [
    "#calculate the percentage of your 10th marks"
   ]
  },
  {
   "cell_type": "code",
   "execution_count": 145,
   "id": "59840c7a",
   "metadata": {},
   "outputs": [],
   "source": [
    "class FindPercentage():\n",
    "    def percentage():\n",
    "        sub1=int(input(\"Subject1=\"))\n",
    "        sub2=int(input(\"Subject2=\"))\n",
    "        sub3=int(input(\"Subject3=\"))\n",
    "        sub4=int(input(\"Subject4=\"))\n",
    "        sub5=int(input(\"Subject5=\"))\n",
    "        Total=sub1+sub2+sub3+sub4+sub5\n",
    "        percentage=Total/5\n",
    "        print(\"Total\",Total)\n",
    "        print(\"Percentage\",percentage)"
   ]
  },
  {
   "cell_type": "code",
   "execution_count": 146,
   "id": "28b30c01",
   "metadata": {},
   "outputs": [
    {
     "name": "stdout",
     "output_type": "stream",
     "text": [
      "Subject1=98\n",
      "Subject2=87\n",
      "Subject3=95\n",
      "Subject4=95\n",
      "Subject5=93\n",
      "Total 468\n",
      "Percentage 93.6\n"
     ]
    }
   ],
   "source": [
    "FindPercentage.percentage()"
   ]
  },
  {
   "cell_type": "code",
   "execution_count": 147,
   "id": "0a3d76e1",
   "metadata": {},
   "outputs": [],
   "source": [
    "#print area and perimeter of triangle using class and functions"
   ]
  },
  {
   "cell_type": "code",
   "execution_count": 150,
   "id": "164c080a",
   "metadata": {},
   "outputs": [],
   "source": [
    "class triangle():\n",
    "    def triangle():\n",
    "        height=int(input(\"Height:\"))\n",
    "        breadth=int(input(\"Breadth:\"))\n",
    "        print(\"Area formula: (Height*Breadth)/2\")\n",
    "        Area=(height*breadth)/2\n",
    "        print(\"Area of Triangle\",Area)\n",
    "        h1=int(input(\"Height1:\"))\n",
    "        h2=int(input(\"Height2:\"))\n",
    "        b=int(input(\"Breadth:\"))\n",
    "        print(\"Perimeter formula: Height1+Height2+Breadth\")\n",
    "        perimeter=h1+h2+b\n",
    "        print(\"Perimeter of Triangle: \",perimeter)"
   ]
  },
  {
   "cell_type": "code",
   "execution_count": 152,
   "id": "02514904",
   "metadata": {},
   "outputs": [
    {
     "name": "stdout",
     "output_type": "stream",
     "text": [
      "Height:32\n",
      "Breadth:34\n",
      "Area formula: (Height*Breadth)/2\n",
      "Area of Triangle 544.0\n",
      "Height1:2\n",
      "Height2:4\n",
      "Breadth:4\n",
      "Perimeter formula: Height1+Height2+Breadth\n",
      "Perimeter of Triangle:  10\n"
     ]
    }
   ],
   "source": [
    "triangle.triangle()"
   ]
  },
  {
   "cell_type": "code",
   "execution_count": null,
   "id": "6b1d922c",
   "metadata": {},
   "outputs": [],
   "source": []
  }
 ],
 "metadata": {
  "kernelspec": {
   "display_name": "Python 3 (ipykernel)",
   "language": "python",
   "name": "python3"
  },
  "language_info": {
   "codemirror_mode": {
    "name": "ipython",
    "version": 3
   },
   "file_extension": ".py",
   "mimetype": "text/x-python",
   "name": "python",
   "nbconvert_exporter": "python",
   "pygments_lexer": "ipython3",
   "version": "3.10.9"
  }
 },
 "nbformat": 4,
 "nbformat_minor": 5
}

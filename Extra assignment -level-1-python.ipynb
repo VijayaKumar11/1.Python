{
 "cells": [
  {
   "cell_type": "code",
   "execution_count": null,
   "id": "e51e5e98",
   "metadata": {},
   "outputs": [],
   "source": [
    "#print statement"
   ]
  },
  {
   "cell_type": "code",
   "execution_count": 1,
   "id": "e0db7743",
   "metadata": {},
   "outputs": [
    {
     "name": "stdout",
     "output_type": "stream",
     "text": [
      "HOPE AI\n"
     ]
    }
   ],
   "source": [
    "print(\"HOPE AI\")"
   ]
  },
  {
   "cell_type": "code",
   "execution_count": null,
   "id": "45e416a4",
   "metadata": {},
   "outputs": [],
   "source": [
    "#buy input"
   ]
  },
  {
   "cell_type": "code",
   "execution_count": 2,
   "id": "8e3cffe2",
   "metadata": {},
   "outputs": [
    {
     "name": "stdout",
     "output_type": "stream",
     "text": [
      "Enter your institute name?:HOPE AI\n",
      "HOPE AI\n"
     ]
    }
   ],
   "source": [
    "Name=input(\"Enter your institute name?:\")\n",
    "print(Name)"
   ]
  },
  {
   "cell_type": "code",
   "execution_count": null,
   "id": "4725e30d",
   "metadata": {},
   "outputs": [],
   "source": [
    "#buy input"
   ]
  },
  {
   "cell_type": "code",
   "execution_count": 4,
   "id": "9db4f6d9",
   "metadata": {},
   "outputs": [
    {
     "name": "stdout",
     "output_type": "stream",
     "text": [
      "Enter your name:vijay\n",
      "vijay\n",
      "Enter your age:29\n",
      "29\n",
      "Enter your school name:pavadi school\n",
      "pavadi school\n",
      "Enter your degree:B.E CSE\n",
      "B.E CSE\n"
     ]
    }
   ],
   "source": [
    "name=input(\"Enter your name:\")\n",
    "print(name)\n",
    "age=int(input(\"Enter your age:\"))\n",
    "print(age)\n",
    "schoolname=input(\"Enter your school name:\")\n",
    "print(schoolname)\n",
    "degree=input(\"Enter your degree:\")\n",
    "print(degree)"
   ]
  },
  {
   "cell_type": "code",
   "execution_count": null,
   "id": "ac3fc509",
   "metadata": {},
   "outputs": [],
   "source": [
    "#addition"
   ]
  },
  {
   "cell_type": "code",
   "execution_count": 3,
   "id": "9aa92e0e",
   "metadata": {},
   "outputs": [
    {
     "name": "stdout",
     "output_type": "stream",
     "text": [
      "a=43\n",
      "b=34\n",
      "add= 77\n"
     ]
    }
   ],
   "source": [
    "a=int(input('a='))\n",
    "b=int(input('b='))\n",
    "add=a+b\n",
    "print(\"add=\",add)"
   ]
  },
  {
   "cell_type": "code",
   "execution_count": null,
   "id": "d1bd18b2",
   "metadata": {},
   "outputs": [],
   "source": [
    "#subtraction"
   ]
  },
  {
   "cell_type": "code",
   "execution_count": 4,
   "id": "a869b2b2",
   "metadata": {},
   "outputs": [
    {
     "name": "stdout",
     "output_type": "stream",
     "text": [
      "a=43\n",
      "b=34\n",
      "sub= 9\n"
     ]
    }
   ],
   "source": [
    "a=int(input('a='))\n",
    "b=int(input('b='))\n",
    "sub=a-b\n",
    "print(\"sub=\",sub)"
   ]
  },
  {
   "cell_type": "code",
   "execution_count": null,
   "id": "3ee540e4",
   "metadata": {},
   "outputs": [],
   "source": [
    "#multiplication"
   ]
  },
  {
   "cell_type": "code",
   "execution_count": 5,
   "id": "dc2946a8",
   "metadata": {},
   "outputs": [
    {
     "name": "stdout",
     "output_type": "stream",
     "text": [
      "a=63\n",
      "b=97\n",
      "mul= 6111\n"
     ]
    }
   ],
   "source": [
    "a=int(input('a='))\n",
    "b=int(input('b='))\n",
    "mul=a*b\n",
    "print(\"mul=\",mul)\n"
   ]
  },
  {
   "cell_type": "code",
   "execution_count": null,
   "id": "6afeacf0",
   "metadata": {},
   "outputs": [],
   "source": [
    "#division"
   ]
  },
  {
   "cell_type": "code",
   "execution_count": 6,
   "id": "fd6c053f",
   "metadata": {},
   "outputs": [
    {
     "name": "stdout",
     "output_type": "stream",
     "text": [
      "a=76\n",
      "b=31\n",
      "Float div= 2.4516129032258065\n"
     ]
    }
   ],
   "source": [
    "a=int(input('a='))\n",
    "b=int(input('b='))\n",
    "div=a/b\n",
    "print(\"Float div=\",div)"
   ]
  },
  {
   "cell_type": "code",
   "execution_count": null,
   "id": "7fd28164",
   "metadata": {},
   "outputs": [],
   "source": [
    "#floor division"
   ]
  },
  {
   "cell_type": "code",
   "execution_count": 2,
   "id": "92547600",
   "metadata": {},
   "outputs": [
    {
     "name": "stdout",
     "output_type": "stream",
     "text": [
      "a=76\n",
      "b=31\n",
      "Floor Div 2\n"
     ]
    }
   ],
   "source": [
    "a=int(input('a='))\n",
    "b=int(input('b='))\n",
    "Floor_Div=a//b\n",
    "print(\"Floor Div\",Floor_Div)"
   ]
  },
  {
   "cell_type": "code",
   "execution_count": null,
   "id": "b4f425c8",
   "metadata": {},
   "outputs": [],
   "source": [
    "#Modulo"
   ]
  },
  {
   "cell_type": "code",
   "execution_count": 3,
   "id": "c2f0947e",
   "metadata": {},
   "outputs": [
    {
     "name": "stdout",
     "output_type": "stream",
     "text": [
      "a=76\n",
      "b=31\n",
      "modulo= 14\n"
     ]
    }
   ],
   "source": [
    "a=int(input('a='))\n",
    "b=int(input('b='))\n",
    "modulo=a%b\n",
    "print(\"modulo=\",modulo)"
   ]
  },
  {
   "cell_type": "code",
   "execution_count": 4,
   "id": "cb833514",
   "metadata": {},
   "outputs": [],
   "source": [
    "#power"
   ]
  },
  {
   "cell_type": "code",
   "execution_count": 7,
   "id": "16d98ef3",
   "metadata": {},
   "outputs": [
    {
     "name": "stdout",
     "output_type": "stream",
     "text": [
      "a=4\n",
      "b=4\n",
      "power= 256\n"
     ]
    }
   ],
   "source": [
    "a=int(input('a='))\n",
    "b=int(input('b='))\n",
    "power=a**b\n",
    "print(\"power=\",power)"
   ]
  },
  {
   "cell_type": "code",
   "execution_count": null,
   "id": "f273a000",
   "metadata": {},
   "outputs": [],
   "source": []
  }
 ],
 "metadata": {
  "kernelspec": {
   "display_name": "Python 3 (ipykernel)",
   "language": "python",
   "name": "python3"
  },
  "language_info": {
   "codemirror_mode": {
    "name": "ipython",
    "version": 3
   },
   "file_extension": ".py",
   "mimetype": "text/x-python",
   "name": "python",
   "nbconvert_exporter": "python",
   "pygments_lexer": "ipython3",
   "version": "3.10.9"
  }
 },
 "nbformat": 4,
 "nbformat_minor": 5
}
